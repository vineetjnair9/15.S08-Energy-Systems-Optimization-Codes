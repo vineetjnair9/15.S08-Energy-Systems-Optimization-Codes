{
 "cells": [
  {
   "cell_type": "markdown",
   "metadata": {},
   "source": [
    "# 15.S08 Recitation 2: Linear programming duality\n",
    "\n",
    "**Shuvomoy Das Gupta**\n",
    "\n",
    "We will talk about the following topics today\n",
    "\n",
    "* Linear programming duality\n",
    "* Linear programming optimality condition\n",
    "* Modeling a simple linear problem step by step and getting both primal and dual solution"
   ]
  },
  {
   "cell_type": "markdown",
   "metadata": {},
   "source": [
    "## Linear programming duality\n",
    "\n",
    "Consider the following general form linear program: \n",
    "\n",
    "$$\n",
    "p^{\\star}=\\left(\\begin{array}{ll}\n",
    "\\underset{x\\in\\mathbf{R}^{d}}{\\mbox{minimize}} & c^{\\top}x\\\\\n",
    "\\mbox{subject to} & a_{i}^{\\top}x=b_{i},\\quad i=1,\\ldots,m,\\\\\n",
    " & d_{i}^{\\top}x\\leq f_{i},\\quad i=1,\\ldots,p.\n",
    "\\end{array}\\right)\n",
    "$$\n",
    "\n",
    "Let us denote an optimal solution by $x^{\\star}$. We will call this\n",
    "problem the *primal* linear program. \n"
   ]
  },
  {
   "cell_type": "markdown",
   "metadata": {},
   "source": [
    "### Lagrangian function\n",
    "\n",
    "For this problem, its Lagrangian function is defined as follows: \n",
    "\n",
    "\\begin{align*}\n",
    "L(x,\\lambda,\\nu) & =c^{\\top}x+\\sum_{i=1}^{m}\\nu_{i}(a_{i}^{\\top}x-b_{i})+\\sum_{i=1}^{p}\\lambda_{i}(d_{i}^{\\top}x-f_{i})\\\\\n",
    " & =\\left(c^{\\top}+\\sum_{i=1}^{m}\\nu_{i}a_{i}^{\\top}+\\sum_{i=1}^{p}\\lambda_{i}d_{i}^{\\top}\\right)x-\\sum_{i=1}^{m}\\nu_{i}b_{i}-\\sum_{i=1}^{p}\\lambda_{i}f_{i}.\n",
    "\\end{align*}\n",
    "\n",
    "* it is weighted sum of objective and constraint function\n",
    "* $\\nu_{i}$ is the Lagrangian multiplier associated with $a_{i}^{\\top}x=b_{i}$\n",
    "* $\\lambda_{i}\\geq0$ is the Lagrangian multiplier associated with $d_{i}^{\\top}x-f_{i}\\leq0$\n",
    "* Transforms original constrained optimization problem to an unconstrained problem\n",
    "* Nonlinear duality also holds for nonconvex problems! Useful to solve these problems or at least obtain bounds on objective function value"
   ]
  },
  {
   "cell_type": "markdown",
   "metadata": {},
   "source": [
    "### Dual function\n",
    "\n",
    "\n",
    "The dual function is the optimal solution of minimizing the Lagrangian\n",
    "for a given $\\lambda\\geq0$ and $\\nu$\n",
    "\n",
    "$$\n",
    "g(\\lambda,\\nu)=\\min_{x}L(x,\\lambda,\\nu).\n",
    "$$\n"
   ]
  },
  {
   "cell_type": "markdown",
   "metadata": {},
   "source": [
    "### Lower bound property\n",
    "\n",
    "If $\\lambda\\geq0$ and we have a feasible solution $\\widetilde{x}$\n",
    "to the primal problem, then \n",
    "\n",
    "\\begin{align*}\n",
    "c^{\\top}\\widetilde{x} & \\geq c^{\\top}\\widetilde{x}+\\sum_{i=1}^{m}\\nu_{i}\\overbrace{(a_{i}^{\\top}\\widetilde{x}-b_{i})}^{=0}+\\sum_{i=1}^{p}\\lambda_{i}\\overbrace{(d_{i}^{\\top}\\widetilde{x}-f_{i})}^{\\leq0}\\\\\n",
    " & \\geq\\min_{x}\\left(c^{\\top}x+\\sum_{i=1}^{m}\\nu_{i}(a_{i}^{\\top}x-b_{i})+\\sum_{i=1}^{p}\\lambda_{i}(d_{i}^{\\top}x-f_{i})\\right)\\\\\n",
    " & =\\min_{x}L(x,\\lambda,\\nu)\\\\\n",
    " & =g(\\lambda,\\nu).\n",
    "\\end{align*}\n",
    " \n",
    "\n",
    "So, we have something non-trivial: for any $\\lambda\\geq0$, any $\\nu$,\n",
    "and any feasible solution $\\widetilde{x}$ to primal LP, we have\n",
    "\n",
    "$$\n",
    "g(\\lambda,\\nu)\\leq c^{\\top}\\widetilde{x}.\n",
    "$$\n",
    "\n",
    "But $x^{\\star}$, which is an optimal solution to the primal LP, is\n",
    "also a feasible solution, so we have \n",
    "\n",
    "$$\n",
    "g(\\underbrace{\\lambda}_{\\geq0},\\nu)\\leq p^{\\star}.\n",
    "$$\n",
    "\n",
    "So, the dual function, for a valid input, always gives a lower bound\n",
    "to the optimal value of the primal. \n"
   ]
  },
  {
   "cell_type": "markdown",
   "metadata": {},
   "source": [
    "### Closed form of the dual function $g$\n",
    "\n",
    "Let us look at the dual function again:\n",
    "\n",
    "\\begin{align*}\n",
    "g(\\lambda,\\nu) & =\\min_{x}L(x,\\lambda,\\nu)\\\\\n",
    " & =\\min_{x}\\underbrace{\\left(c+\\sum_{i=1}^{m}\\nu_{i}a_{i}+\\sum_{i=1}^{p}\\lambda_{i}d_{i}\\right)^{\\top}}_{\\textrm{constant wrt} \\;x}x-\\sum_{i=1}^{m}\\nu_{i}b_{i}-\\sum_{i=1}^{p}\\lambda_{i}f_{i}.\n",
    "\\end{align*}\n",
    "\n",
    "By inspection the solution is, \n",
    "\n",
    "$$\n",
    "g(\\lambda,\\nu)=\\begin{cases}\n",
    "-\\sum_{i=1}^{m}\\nu_{i}b_{i}-\\sum_{i=1}^{p}\\lambda_{i}f_{i}, & \\textrm{if }c+\\sum_{i=1}^{m}\\nu_{i}a_{i}+\\sum_{i=1}^{p}\\lambda_{i}d_{i}=\\mathbf{0},\\\\\n",
    "-\\infty, & \\textrm{else}.\n",
    "\\end{cases}\n",
    "$$"
   ]
  },
  {
   "cell_type": "markdown",
   "metadata": {},
   "source": [
    "### Towards the dual function\n",
    "\n",
    "Ideally, we want the tightest lower bound. We have shown that: \n",
    "\n",
    "\\begin{align*}\n",
    "g(\\lambda,\\nu) & \\leq p^{\\star}\\textrm{ for all }\\lambda\\geq0,\\nu.\n",
    "\\end{align*}\n",
    "\n",
    "Hence, we must have \n",
    "\n",
    "$$\n",
    "\\max_{\\lambda\\geq0,\\nu}g(\\lambda,\\nu)\\leq p^{\\star}.\n",
    "$$\n",
    "\n",
    "So, a natural idea is to maximize the dual function, which gives us\n",
    "the *dual* linear program: \n",
    "\n",
    "$$\n",
    "d^{\\star}=\\left(\\begin{array}{ll}\n",
    "\\underset{\\lambda\\in\\mathbf{R}^{p},\\nu\\in\\mathbf{R}^{m}}{\\mbox{maximize}} & -\\sum_{i=1}^{m}b_{i}\\nu_{i}-\\sum_{i=1}^{p}f_{i}\\lambda_{i}\\\\\n",
    "\\mbox{subject to} & c+\\sum_{i=1}^{m}\\nu_{i}a_{i}+\\sum_{i=1}^{p}\\lambda_{i}d_{i}=\\mathbf{0},\\\\\n",
    " & \\lambda\\geq0.\n",
    "\\end{array}\\right)\n",
    "$$\n",
    "which is another linear program over the dual variables. "
   ]
  },
  {
   "cell_type": "markdown",
   "metadata": {},
   "source": [
    "### The two flavors of duality\n",
    "\n",
    "We have two types of relationship between the primal and dual problem. \n",
    "\n",
    "### Weak duality\n",
    "\n",
    "We always have $d^{\\star}\\leq p^{\\star}$,no matter what the problem type (convex/nonconvex) is."
   ]
  },
  {
   "cell_type": "markdown",
   "metadata": {},
   "source": [
    "### Strong duality\n",
    "\n",
    "* If we have $d^{\\star}=p^{\\star}$, then we say that strong duality\n",
    "holds. \n",
    "* Does not hold in general for nonconvex problems. \n",
    "* (Usually) holds for convex problems.\n",
    "* Linear programs are convex, so strong duality holds, i.e.,\n",
    "primal and dual problems have the same optimal value *except\n",
    "the pathological situation where both primal and dual is infeasible* "
   ]
  },
  {
   "cell_type": "markdown",
   "metadata": {},
   "source": [
    "### Recap\n",
    "\n",
    "We have primal linear problem\n",
    "\n",
    "$$\n",
    "p^{\\star}=\\left(\\begin{array}{ll}\n",
    "\\underset{x\\in\\mathbf{R}^{d}}{\\mbox{minimize}} & c^{\\top}x\\\\\n",
    "\\mbox{subject to} & a_{i}^{\\top}x=b_{i},\\quad i=1,\\ldots,m,\\\\\n",
    " & d_{i}^{\\top}x\\leq f_{i},\\quad i=1,\\ldots,p.\n",
    "\\end{array}\\right)\n",
    "$$\n",
    "\n",
    "and its dual problem \n",
    "$$\n",
    "d^{\\star}=\\left(\\begin{array}{ll}\n",
    "\\underset{\\lambda\\in\\mathbf{R}^{p},\\nu\\in\\mathbf{R}^{m}}{\\mbox{maximize}} & -\\sum_{i=1}^{m}b_{i}\\nu_{i}-\\sum_{i=1}^{p}f_{i}\\lambda_{i}\\\\\n",
    "\\mbox{subject to} & c+\\sum_{i=1}^{m}\\nu_{i}a_{i}+\\sum_{i=1}^{p}\\lambda_{i}d_{i}=\\mathbf{0},\\\\\n",
    " & \\lambda\\geq0.\n",
    "\\end{array}\\right)\n",
    "$$\n",
    "and $p^{\\star}=d^{\\star}$ usually for convex problems. "
   ]
  },
  {
   "cell_type": "markdown",
   "metadata": {},
   "source": [
    "### KKT conditions\n",
    "\n",
    "KKT conditions gives us the optimality conditions for a problem when\n",
    "strong duality holds and we have the primal solution $x^{\\star}$\n",
    "and dual solution $\\lambda^{\\star},\\nu^{\\star}$. \n",
    "\n",
    "It consists of the following conditions.\n",
    "\n",
    "* Primal feasibility. $x^{\\star}$must be primal feasible:\n",
    "\\begin{align*}\n",
    " & a_{i}^{\\top}x^{\\star}=b_{i},\\quad i=1,\\ldots,m,\\\\\n",
    " & d_{i}^{\\top}x^{\\star}\\leq f_{i},\\quad i=1,\\ldots,p.\n",
    "\\end{align*}\n",
    "* Dual feasibility. $\\lambda^{\\star},\\nu^{\\star}$ must be dual feasible:\n",
    "\n",
    "\\begin{align*}\n",
    " & c+\\sum_{i=1}^{m}\\nu_{i}a_{i}+\\sum_{i=1}^{p}\\lambda_{i}d_{i}=\\mathbf{0},\\\\\n",
    " & \\lambda\\geq0.\n",
    "\\end{align*}\n",
    "\n",
    "* Complementary slackness:\n",
    "\n",
    "$$\n",
    "\\lambda_{i}^{\\star}(d_{i}^{\\top}x^{\\star}-f_{i})=0,\\quad\\textrm{for all }i=1,\\ldots,p.\n",
    "$$\n",
    "\n",
    "Can easily extend to this nonlinear duality case too."
   ]
  },
  {
   "cell_type": "markdown",
   "metadata": {},
   "source": [
    "### Proof of complementary slackness\n",
    "\n",
    "First, note that: \n",
    "\n",
    "\\begin{align*}\n",
    "d^{\\star} & =g(\\lambda^{\\star},\\nu^{\\star})=\\min_{x}L(x,\\lambda^{\\star},\\nu^{\\star})\\\\\n",
    " & =\\min_{x}\\left(c^{\\top}x+\\sum_{i=1}^{m}\\nu_{i}^{\\star}(a_{i}^{\\top}x-b_{i})+\\sum_{i=1}^{p}\\lambda_{i}^{\\star}(d_{i}^{\\top}x-f_{i})\\right)\\\\\n",
    " & \\leq c^{\\top}x^{\\star}+\\sum_{i=1}^{m}\\underbrace{\\nu_{i}^{\\star}(a_{i}^{\\top}x^{\\star}-b_{i})}_{=0}+\\sum_{i=1}^{p}\\underbrace{\\lambda_{i}^{\\star}(d_{i}^{\\top}x^{\\star}-f_{i})}_{\\leq0}\\\\\n",
    " & \\leq c^{\\top}x^{\\star}\\\\\n",
    " & =p^{\\star}.\n",
    "\\end{align*}\n",
    "\n",
    "But we have $p^{\\star}=d^{\\star},$ so the last two inequality must\n",
    "hold with equality: \n",
    "\n",
    "\\begin{align*}\n",
    "d^{\\star} & =\\min_{x}\\left(c^{\\top}x+\\sum_{i=1}^{m}\\nu_{i}^{\\star}(a_{i}^{\\top}x-b_{i})+\\sum_{i=1}^{p}\\lambda_{i}^{\\star}(d_{i}^{\\top}x-f_{i})\\right)=c^{\\top}x^{\\star}+\\sum_{i=1}^{m}\\nu_{i}^{\\star}(a_{i}^{\\top}x^{\\star}-b_{i})+\\sum_{i=1}^{p}\\lambda_{i}^{\\star}(d_{i}^{\\top}x^{\\star}-f_{i})=c^{\\top}x^{\\star}=p^{\\star}.\\\\\n",
    "\\Rightarrow & \\sum_{i=1}^{p}\\lambda_{i}^{\\star}(d_{i}^{\\top}x^{\\star}-f_{i})=0,\n",
    "\\end{align*}\n",
    "\n",
    "but each of the terms $\\lambda_{i}^{\\star}(d_{i}^{\\top}x^{\\star}-f_{i})\\leq0$,\n",
    "and they are adding up to zero. So, each of them must be equal to\n",
    "zero: \n",
    "$$\n",
    "\\lambda_{i}^{\\star}(d_{i}^{\\top}x^{\\star}-f_{i})=0,\\quad\\textrm{for all }i=1,\\ldots,p.\n",
    "$$\n",
    "\n",
    "This is complementary slackness. "
   ]
  },
  {
   "cell_type": "markdown",
   "metadata": {},
   "source": [
    "## Autonomous vehicle control problem\n",
    "Consider an autonomous vehicle that travels along a straight path. Let $x_{t},v_{t},$\n",
    "and $a_{t}$ be the position, velocity, and acceleration of the vehicle\n",
    "at time $t$, respectively. By discretizing time and by taking the\n",
    "time increment to be unity, we obtain an approximate discrete-time\n",
    "model of the form: \n",
    "\n",
    "$\\begin{align}\n",
    "x_{t+1} & =x_{t}+v_{t}\\\\\n",
    "v_{t+1} & =v_{t}+a_{t}.\n",
    "\\end{align}$\n",
    "\n",
    "\n",
    " We assume that the acceleration is under our control, which is controlled\n",
    "by the vehicle thrust. In a rough model, the magnitude $|a_{t}|$ of\n",
    "the acceleration is proportional to the rate of fuel consumption at\n",
    "time $t$.\n",
    "\n",
    "Suppose that the vehicle is initially at rest at the origin, *i.e.*,\n",
    "$x_{0}=0$ and $v_{0}=0$. We wish the vehicle to start and *arrive\n",
    "softly* at distance $d$ unit after $T$ time units, *i.e.*,\n",
    "$x_{T}=d$ and $v_{T}=0$. The total fuel consumption of the vehicle,\n",
    "given by $\\sum_{t=0}^{T-1}c_{t}|a_{t}|$ (where $c_{1},\\ldots,c_{T-1}$\n",
    "are positive numbers known to us), cannot be more than available amount\n",
    "of fuel $f$. To ensure a smooth trajectory, we want to ensure that\n",
    "the acceleration of the vehicle does not change too abruptly, *i.e.*,\n",
    "$|a_{t+1}-a_{t}|$ is always less than or equal to some known value\n",
    "$\\delta$.\n",
    "\n",
    "Now, we want to create an acceleration plan to control the vehicle in a manner to minimize the maximum\n",
    "thrust required, which is $\\max_{t\\in\\{0,\\ldots,T-1\\}}|a_{t}|$, subject\n",
    "to the preceding constraints. "
   ]
  },
  {
   "cell_type": "markdown",
   "metadata": {},
   "source": [
    "#### Goals\n",
    "\n",
    "We want to do the following.\n",
    "\n",
    "(a) Provide a linear programming formulation for this vehicle control\n",
    "problem.\n",
    "\n",
    "(b) Formulate and solve the model in `Julia` for $T=100,$\n",
    "$d=50,$ $\\delta=10^{-3},$ $f=1000,$ and $c_{1}=\\ldots=c_{T-1}=1$. Plot\n",
    "acceleration, velocity, and position of the vehicle vs time. "
   ]
  },
  {
   "cell_type": "markdown",
   "metadata": {},
   "source": [
    "#### A linear programming formulation\n",
    "\n",
    "Add auxiliary change of variables to model max() and absolute value as a standard LP form\n",
    "\n",
    "A linear programming formulation for this vehicle control problem can be written as\n",
    "\n",
    "$\\begin{array}{ll}\n",
    "\\textrm{minimize} & h\\\\\n",
    "\\textrm{subject to} & v_{0}=0\\\\\n",
    " & x_{0}=0\\\\\n",
    " & v_{T}=0\\\\\n",
    " & x_{T}=d\\\\\n",
    " & \\sum_{i=0}^{T-1}z_{i}\\leq f\\\\\n",
    " & z_{t}\\geq a_{t},\\qquad t=0,\\ldots,T-1\\\\\n",
    " & z_{t}\\geq-a_{t},\\qquad t=0,\\ldots,T-1\\\\\n",
    " & x_{t+1}=x_{t}+v_{t},\\qquad t=0,\\ldots,T-1\\\\\n",
    " & v_{t+1}=v_{t}+a_{t},\\qquad t=0,\\ldots,T-1\\\\\n",
    " & a_{t+1}-a_{t}\\leq\\delta,\\qquad t=0,\\ldots,T-2\\\\\n",
    " & -a_{t+1}+a_{t}\\leq\\delta,\\qquad t=0,\\ldots,T-1\\\\\n",
    " & h\\geq a_{t},\\qquad t=0,\\ldots,T-1\\\\\n",
    " & h\\geq-a_{t},\\qquad t=0,\\ldots,T-1\n",
    "\\end{array}$\n",
    "\n",
    "$\\textbf{Derivation} \\\\\n",
    "\\begin{align*}\n",
    "|a_t| & = max\\{x,-x\\} \\leq \\max_t |a_t| = h \\\\\n",
    "\\sum_{i=0}^{T-1} c_t |a_t| & = \\sum_{i=0}^{T-1} |a_t| = \\sum_{i=0}^{T-1} z_t \\leq f \\\\\n",
    "z_t & = |a_t| = max\\{a_t,-a_t\\} \\implies z_t \\geq a_t, \\; z_t \\geq -a_t\n",
    "\\end{align*}$\n",
    "\n",
    "where $h\\in\\mathbf{R},$ $a,z\\in\\mathbf{R}^{T},$ and $,v,x\\in\\mathbf{R}^{T+1}$\n",
    "are the decision variables, and $T,d, \\delta, f \\in \\mathbf{R}$ are the input data."
   ]
  },
  {
   "cell_type": "markdown",
   "metadata": {},
   "source": [
    "#### Solving the problem using `Julia+JuMP`\n",
    "Now let us solve the formulation above using `Julia` and `JuMP`. "
   ]
  },
  {
   "cell_type": "code",
   "execution_count": 1,
   "metadata": {},
   "outputs": [
    {
     "data": {
      "text/plain": [
       "1000"
      ]
     },
     "execution_count": 1,
     "metadata": {},
     "output_type": "execute_result"
    }
   ],
   "source": [
    "# Data\n",
    "T = 100\n",
    "d = 50\n",
    "delta = 1e-3\n",
    "f = 1000"
   ]
  },
  {
   "cell_type": "code",
   "execution_count": 2,
   "metadata": {},
   "outputs": [],
   "source": [
    "using JuMP, Gurobi"
   ]
  },
  {
   "cell_type": "code",
   "execution_count": 3,
   "metadata": {},
   "outputs": [
    {
     "name": "stdout",
     "output_type": "stream",
     "text": [
      "Set parameter Username\n",
      "Academic license - for non-commercial use only - expires 2023-02-03\n"
     ]
    },
    {
     "data": {
      "text/plain": [
       "A JuMP Model\n",
       "Feasibility problem with:\n",
       "Variables: 0\n",
       "Model mode: AUTOMATIC\n",
       "CachingOptimizer state: EMPTY_OPTIMIZER\n",
       "Solver name: Gurobi"
      ]
     },
     "execution_count": 3,
     "metadata": {},
     "output_type": "execute_result"
    }
   ],
   "source": [
    "# Define the model \n",
    "vehicle_model = Model(Gurobi.Optimizer)"
   ]
  },
  {
   "cell_type": "code",
   "execution_count": 4,
   "metadata": {},
   "outputs": [
    {
     "data": {
      "text/plain": [
       "(VariableRef[a[1], a[2], a[3], a[4], a[5], a[6], a[7], a[8], a[9], a[10]  …  a[91], a[92], a[93], a[94], a[95], a[96], a[97], a[98], a[99], a[100]], VariableRef[v[1], v[2], v[3], v[4], v[5], v[6], v[7], v[8], v[9], v[10]  …  v[92], v[93], v[94], v[95], v[96], v[97], v[98], v[99], v[100], v[101]], VariableRef[x[1], x[2], x[3], x[4], x[5], x[6], x[7], x[8], x[9], x[10]  …  x[92], x[93], x[94], x[95], x[96], x[97], x[98], x[99], x[100], x[101]], h, VariableRef[z[1], z[2], z[3], z[4], z[5], z[6], z[7], z[8], z[9], z[10]  …  z[91], z[92], z[93], z[94], z[95], z[96], z[97], z[98], z[99], z[100]])"
      ]
     },
     "execution_count": 4,
     "metadata": {},
     "output_type": "execute_result"
    }
   ],
   "source": [
    "# Let us define the variables\n",
    "@variables(vehicle_model, \n",
    "begin\n",
    "\ta[1:T] # acceleration\n",
    "\tv[1:T+1] # velocity\n",
    "\tx[1:T+1] # position\n",
    "\th # epigraph variable\n",
    "\tz[1:T] # epigraph variable\n",
    "end)"
   ]
  },
  {
   "cell_type": "code",
   "execution_count": 5,
   "metadata": {},
   "outputs": [
    {
     "data": {
      "text/latex": [
       "$$ h $$"
      ],
      "text/plain": [
       "h"
      ]
     },
     "execution_count": 5,
     "metadata": {},
     "output_type": "execute_result"
    }
   ],
   "source": [
    "# Define the objective\n",
    "@objective(vehicle_model, Min, h)"
   ]
  },
  {
   "cell_type": "code",
   "execution_count": 6,
   "metadata": {},
   "outputs": [],
   "source": [
    "# Define the constraints\n",
    "@constraints(vehicle_model, \n",
    "begin\n",
    "        \n",
    "\tinit_speed, v[1] == 0.0 # Initial speed\n",
    "        \n",
    "\tinit_position, x[1] == 0.0 # Initial position\n",
    "        \n",
    "\tfinal_speed, v[T+1] == 0.0 # Final speed\n",
    "        \n",
    "\tfinal_position, x[T+1] == d # Final position\n",
    "        \n",
    "\tfuel_capacity_1, sum(z) <= f # fuel capcity constraint part 1\n",
    "        \n",
    "\tfuel_capacity_2[t = 1:T], z[t] >= a[t] # fuel capcity constraint part 2\n",
    "        \n",
    "\tfuel_capacity_3[t = 1:T], z[t] >= -a[t] # fuel capcity constraint part 3\n",
    "        \n",
    "\tdynamic_model_pos[t= 1:T], x[t+1] == x[t] + v[t] # discrete time dynamic model\n",
    "        \n",
    "    dynamic_model_speed[t = 1:T], v[t+1] == v[t] + a[t] # discrete time dynamic model\n",
    "        \n",
    "\tjolt_1[t = 1:T-1], a[t+1] - a[t] <= delta # jolt constraint 1\n",
    "        \n",
    "\tjolt_2[t = 1:T-1], -a[t+1] + a[t] <= delta # jolt constraint 2\n",
    "        \n",
    "\tepi_1[t = 1:T], h >= a[t] # epigraph for thurst part 1\n",
    "        \n",
    "\tepi_2[t = 1:T], h >= -a[t] # epigraph for thrust part 2\n",
    "        \n",
    "    end);"
   ]
  },
  {
   "cell_type": "code",
   "execution_count": 7,
   "metadata": {},
   "outputs": [
    {
     "name": "stdout",
     "output_type": "stream",
     "text": [
      "Gurobi Optimizer version 9.5.0 build v9.5.0rc5 (mac64[arm])\n",
      "Thread count: 10 physical cores, 10 logical processors, using up to 10 threads\n",
      "Optimize a model with 803 rows, 403 columns and 1900 nonzeros\n",
      "Model fingerprint: 0xfec28356\n",
      "Coefficient statistics:\n",
      "  Matrix range     [1e+00, 1e+00]\n",
      "  Objective range  [1e+00, 1e+00]\n",
      "  Bounds range     [0e+00, 0e+00]\n",
      "  RHS range        [1e-03, 1e+03]\n",
      "Presolve removed 301 rows and 202 columns\n",
      "Presolve time: 0.00s\n",
      "Presolved: 502 rows, 300 columns, 1396 nonzeros\n",
      "\n",
      "Iteration    Objective       Primal Inf.    Dual Inf.      Time\n",
      "       0      handle free variables                          0s\n",
      "     313    2.1286790e-02   0.000000e+00   0.000000e+00      0s\n",
      "\n",
      "Solved in 313 iterations and 0.00 seconds (0.01 work units)\n",
      "Optimal objective  2.128678970e-02\n",
      "\n",
      "User-callback calls 376, time in user-callback 0.00 sec\n"
     ]
    }
   ],
   "source": [
    "optimize!(vehicle_model) # time to solve the optimization problem"
   ]
  },
  {
   "cell_type": "code",
   "execution_count": 8,
   "metadata": {},
   "outputs": [
    {
     "data": {
      "text/plain": [
       "(0.021286789703739678, [0.021286789703739678, 0.021286789703739678, 0.021286789703739678, 0.021286789703739678, 0.021286789703739678, 0.021286789703739678, 0.021286789703739678, 0.021286789703739678, 0.021286789703739678, 0.021286789703739678  …  -0.021286789703739678, -0.021286789703739678, -0.021286789703739678, -0.021286789703739678, -0.021286789703739678, -0.021286789703739678, -0.021286789703739678, -0.021286789703739678, -0.021286789703739678, -0.021286789703739678], [0.0, 0.021286789703739678, 0.042573579407479356, 0.06386036911121903, 0.08514715881495871, 0.10643394851869839, 0.12772073822243807, 0.14900752792617775, 0.17029431762991742, 0.1915811073336571  …  0.1915811073336571, 0.17029431762991742, 0.14900752792617775, 0.12772073822243807, 0.10643394851869839, 0.08514715881495871, 0.06386036911121903, 0.042573579407479356, 0.021286789703739678, 0.0], [0.0, 0.0, 0.021286789703739678, 0.06386036911121903, 0.12772073822243807, 0.21286789703739678, 0.3193018455560952, 0.44702258377853327, 0.596030111704711, 0.7663244293346284  …  49.04209446333172, 49.233675570665376, 49.40396988829529, 49.55297741622147, 49.6806981544439, 49.7871321029626, 49.872279261777564, 49.93613963088878, 49.97871321029626, 50.0], 0.021286789703739678, [0.021286789703739678, 0.021286789703739678, 0.021286789703739678, 0.021286789703739678, 0.021286789703739678, 0.021286789703739678, 0.021286789703739678, 0.021286789703739678, 0.021286789703739678, 0.021286789703739678  …  0.021286789703739678, 0.021286789703739678, 0.021286789703739678, 0.021286789703739678, 0.021286789703739678, 0.021286789703739678, 0.021286789703739678, 0.021286789703739678, 0.021286789703739678, 998.3456529868886])"
      ]
     },
     "execution_count": 8,
     "metadata": {},
     "output_type": "execute_result"
    }
   ],
   "source": [
    "p_star, a_sol, v_sol, x_sol, h_sol, z_sol = \n",
    "objective_value(vehicle_model), value.(a), value.(v), value.(x), value(h), value.(z) \n",
    "# save the optimal objective and optimal solutions"
   ]
  },
  {
   "cell_type": "code",
   "execution_count": 11,
   "metadata": {},
   "outputs": [
    {
     "ename": "LoadError",
     "evalue": "ArgumentError: Package Plots not found in current path:\n- Run `import Pkg; Pkg.add(\"Plots\")` to install the Plots package.\n",
     "output_type": "error",
     "traceback": [
      "ArgumentError: Package Plots not found in current path:\n- Run `import Pkg; Pkg.add(\"Plots\")` to install the Plots package.\n",
      "",
      "Stacktrace:",
      " [1] require(into::Module, mod::Symbol)",
      "   @ Base ./loading.jl:967",
      " [2] eval",
      "   @ ./boot.jl:373 [inlined]",
      " [3] include_string(mapexpr::typeof(REPL.softscope), mod::Module, code::String, filename::String)",
      "   @ Base ./loading.jl:1196"
     ]
    }
   ],
   "source": [
    "using Plots"
   ]
  },
  {
   "cell_type": "code",
   "execution_count": 12,
   "metadata": {},
   "outputs": [
    {
     "ename": "LoadError",
     "evalue": "LoadError: UndefVarError: @layout not defined\nin expression starting at In[12]:1",
     "output_type": "error",
     "traceback": [
      "LoadError: UndefVarError: @layout not defined\nin expression starting at In[12]:1",
      "",
      "Stacktrace:",
      " [1] top-level scope",
      "   @ :0",
      " [2] eval",
      "   @ ./boot.jl:373 [inlined]",
      " [3] include_string(mapexpr::typeof(REPL.softscope), mod::Module, code::String, filename::String)",
      "   @ Base ./loading.jl:1196"
     ]
    }
   ],
   "source": [
    "l = @layout [a; b ;c]\n",
    "p1 = plot([1:T], a_sol, label = \"accleration\", lw = 2, color = \"blue\", legend =:bottomleft)\n",
    "p2 = plot([1:T+1], x_sol, label = \"position\", lw = 2, color = \"red\", legend =:topleft)\n",
    "p3 = plot([1:T+1], v_sol, label = \"velocity\", lw = 2, color = \"black\", legend =:topleft)\n",
    "plot(p1, p2, p3, layout = l)"
   ]
  },
  {
   "cell_type": "code",
   "execution_count": 13,
   "metadata": {},
   "outputs": [
    {
     "data": {
      "text/plain": [
       "true"
      ]
     },
     "execution_count": 13,
     "metadata": {},
     "output_type": "execute_result"
    }
   ],
   "source": [
    "# Getting dual information\n",
    "has_duals(vehicle_model)"
   ]
  },
  {
   "cell_type": "code",
   "execution_count": 14,
   "metadata": {},
   "outputs": [
    {
     "data": {
      "text/plain": [
       "0.021286789703739678"
      ]
     },
     "execution_count": 14,
     "metadata": {},
     "output_type": "execute_result"
    }
   ],
   "source": [
    "dual_objective_value(vehicle_model)"
   ]
  },
  {
   "cell_type": "code",
   "execution_count": 54,
   "metadata": {},
   "outputs": [
    {
     "data": {
      "text/plain": [
       "100-element Vector{Float64}:\n",
       " -0.024040796503156832\n",
       " -0.0235551238465274\n",
       " -0.02306945118989797\n",
       " -0.02258377853326854\n",
       " -0.02209810587663911\n",
       " -0.021612433220009677\n",
       " -0.021126760563380247\n",
       " -0.020641087906750816\n",
       " -0.020155415250121385\n",
       " -0.019669742593491954\n",
       " -0.019184069936862523\n",
       " -0.018698397280233092\n",
       " -0.01821272462360366\n",
       "  ⋮\n",
       "  0.018698397280233123\n",
       "  0.019184069936862554\n",
       "  0.019669742593491985\n",
       "  0.020155415250121416\n",
       "  0.020641087906750847\n",
       "  0.021126760563380278\n",
       "  0.02161243322000971\n",
       "  0.02209810587663914\n",
       "  0.02258377853326857\n",
       "  0.023069451189898\n",
       "  0.023555123846527432\n",
       "  0.024040796503156863"
      ]
     },
     "execution_count": 54,
     "metadata": {},
     "output_type": "execute_result"
    }
   ],
   "source": [
    "# optimal dual variable correpsonding to  dynamic_model_speed constraints\n",
    "[dual(dynamic_model_speed[t]) for t in 1:T]"
   ]
  }
 ],
 "metadata": {
  "kernelspec": {
   "display_name": "Julia 1.7.2",
   "language": "julia",
   "name": "julia-1.7"
  },
  "language_info": {
   "file_extension": ".jl",
   "mimetype": "application/julia",
   "name": "julia",
   "version": "1.7.2"
  },
  "latex_envs": {
   "LaTeX_envs_menu_present": true,
   "autoclose": false,
   "autocomplete": true,
   "bibliofile": "biblio.bib",
   "cite_by": "apalike",
   "current_citInitial": 1,
   "eqLabelWithNumbers": true,
   "eqNumInitial": 1,
   "hotkeys": {
    "equation": "Ctrl-E",
    "itemize": "Ctrl-I"
   },
   "labels_anchors": false,
   "latex_user_defs": false,
   "report_style_numbering": false,
   "user_envs_cfg": false
  },
  "toc": {
   "base_numbering": 1,
   "nav_menu": {},
   "number_sections": true,
   "sideBar": true,
   "skip_h1_title": false,
   "title_cell": "Table of Contents",
   "title_sidebar": "Contents",
   "toc_cell": false,
   "toc_position": {},
   "toc_section_display": true,
   "toc_window_display": false
  },
  "varInspector": {
   "cols": {
    "lenName": 16,
    "lenType": 16,
    "lenVar": 40
   },
   "kernels_config": {
    "python": {
     "delete_cmd_postfix": "",
     "delete_cmd_prefix": "del ",
     "library": "var_list.py",
     "varRefreshCmd": "print(var_dic_list())"
    },
    "r": {
     "delete_cmd_postfix": ") ",
     "delete_cmd_prefix": "rm(",
     "library": "var_list.r",
     "varRefreshCmd": "cat(var_dic_list()) "
    }
   },
   "types_to_exclude": [
    "module",
    "function",
    "builtin_function_or_method",
    "instance",
    "_Feature"
   ],
   "window_display": false
  }
 },
 "nbformat": 4,
 "nbformat_minor": 4
}
