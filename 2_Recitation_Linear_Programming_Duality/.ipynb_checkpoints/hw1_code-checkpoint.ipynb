{
 "cells": [
  {
   "cell_type": "code",
   "execution_count": null,
   "id": "ebfc5325",
   "metadata": {},
   "outputs": [],
   "source": [
    "weat_rate = [5; 7.5; 10; 12; 15]\n",
    "eqbm_co2 = [90.212; 273.134; 610.167; 1017.776; 1897.023]\n",
    "\n",
    "using PyPlot\n",
    "using LaTeXStrings\n",
    "plot(eqbm_co2, weat_rate)\n",
    "xlabel(L\"Equilibrium atmospheric $CO_2$ oncentration (ppm)\")\n",
    "ylabel(L\"Weathering rate ($10^{12} \\; mol/y$)\")\n",
    "# plot!(xlabel = \"Equilibrium atmospheric L\"CO_2\" oncentration (ppm)\", ylabel = \"Weathering rate (L\"10^{12} \\; mol/y\")\")"
   ]
  },
  {
   "cell_type": "code",
   "execution_count": null,
   "id": "7326501b",
   "metadata": {},
   "outputs": [],
   "source": []
  }
 ],
 "metadata": {
  "kernelspec": {
   "display_name": "Julia 1.7.2",
   "language": "julia",
   "name": "julia-1.7"
  },
  "language_info": {
   "file_extension": ".jl",
   "mimetype": "application/julia",
   "name": "julia",
   "version": "1.7.2"
  }
 },
 "nbformat": 4,
 "nbformat_minor": 5
}
